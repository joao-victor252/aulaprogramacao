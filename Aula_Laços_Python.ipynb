{
  "nbformat": 4,
  "nbformat_minor": 0,
  "metadata": {
    "colab": {
      "provenance": [],
      "authorship_tag": "ABX9TyPFU5mVEWUD7GvhSxF1fnFV",
      "include_colab_link": true
    },
    "kernelspec": {
      "name": "python3",
      "display_name": "Python 3"
    },
    "language_info": {
      "name": "python"
    }
  },
  "cells": [
    {
      "cell_type": "markdown",
      "metadata": {
        "id": "view-in-github",
        "colab_type": "text"
      },
      "source": [
        "<a href=\"https://colab.research.google.com/github/joao-victor252/aulaprogramacao/blob/main/Aula_La%C3%A7os_Python.ipynb\" target=\"_parent\"><img src=\"https://colab.research.google.com/assets/colab-badge.svg\" alt=\"Open In Colab\"/></a>"
      ]
    },
    {
      "cell_type": "code",
      "execution_count": null,
      "metadata": {
        "id": "ltHmuaNhzsTT"
      },
      "outputs": [],
      "source": [
        "for i in range(1, 8):\n",
        "  print(i)"
      ]
    },
    {
      "cell_type": "code",
      "source": [
        "for i in range(8):\n",
        "  print(i)"
      ],
      "metadata": {
        "id": "dyH_Dj3U2Y58"
      },
      "execution_count": null,
      "outputs": []
    },
    {
      "cell_type": "code",
      "source": [
        "#Printar todos os números de 10 a 25\n",
        "#Printar todos os números pares de 0 a 50\n",
        "#Printar todos os números de 10 a 1 (regressivo)\n",
        "#Mostrar a soma de todos os números de um intervalo, inserido por um usuáriio\n",
        "for i in range(10, 26):\n",
        "  print(i)"
      ],
      "metadata": {
        "id": "jE9MeAQB26SQ"
      },
      "execution_count": null,
      "outputs": []
    },
    {
      "cell_type": "code",
      "source": [
        "for i in range(0, 51, 2):\n",
        "  print(i)"
      ],
      "metadata": {
        "id": "y3zIEFwU4cwb"
      },
      "execution_count": null,
      "outputs": []
    },
    {
      "cell_type": "code",
      "source": [
        "for i in range(10, 0, -1):\n",
        "  print(i)"
      ],
      "metadata": {
        "id": "z_tlbFSM4cuY"
      },
      "execution_count": null,
      "outputs": []
    },
    {
      "cell_type": "code",
      "source": [
        "soma = 0\n",
        "for i in range(5):\n",
        "  soma = soma + i\n",
        "\n",
        "print(soma)"
      ],
      "metadata": {
        "colab": {
          "base_uri": "https://localhost:8080/"
        },
        "id": "VKx-cDG24klI",
        "outputId": "fba8feea-d21f-432a-fd6a-7f558bb15388"
      },
      "execution_count": 22,
      "outputs": [
        {
          "output_type": "stream",
          "name": "stdout",
          "text": [
            "10\n"
          ]
        }
      ]
    },
    {
      "cell_type": "code",
      "source": [
        "soma = 0\n",
        "num1 = int(input(\"Digite o primeiro número: \"))\n",
        "num2 = int(input(\"Digite o final do intervalo: \"))\n",
        "\n",
        "for i in range(num1, num2+1):\n",
        "  soma = soma + i\n",
        "\n",
        "print(\"O resultado da soma é: \", soma)"
      ],
      "metadata": {
        "colab": {
          "base_uri": "https://localhost:8080/"
        },
        "id": "ZZGc_xOI7aka",
        "outputId": "b7028011-0f19-4ff0-aaac-f66e0cc2bb55"
      },
      "execution_count": 27,
      "outputs": [
        {
          "output_type": "stream",
          "name": "stdout",
          "text": [
            "Digite o primeiro número: 7\n",
            "Digite o final do intervalo: 8\n",
            "O resultado da soma é:  15\n"
          ]
        }
      ]
    },
    {
      "cell_type": "code",
      "source": [
        "#Pega um range de valores entre 1 e 20.\n",
        "#e imprime se é par ou impar\n",
        "#ex: 1 é impar\n",
        "\n",
        "for i in range(1, 21):\n",
        "  if(i % 2 == 0):\n",
        "    print(i, \"é par\")\n",
        "  else:\n",
        "    print(i, \"é impar\")"
      ],
      "metadata": {
        "colab": {
          "base_uri": "https://localhost:8080/"
        },
        "id": "FBWbxoQI8yKk",
        "outputId": "160091f4-a958-4960-8cd7-501423f43b22"
      },
      "execution_count": 28,
      "outputs": [
        {
          "output_type": "stream",
          "name": "stdout",
          "text": [
            "1 é impar\n",
            "2 é par\n",
            "3 é impar\n",
            "4 é par\n",
            "5 é impar\n",
            "6 é par\n",
            "7 é impar\n",
            "8 é par\n",
            "9 é impar\n",
            "10 é par\n",
            "11 é impar\n",
            "12 é par\n",
            "13 é impar\n",
            "14 é par\n",
            "15 é impar\n",
            "16 é par\n",
            "17 é impar\n",
            "18 é par\n",
            "19 é impar\n",
            "20 é par\n"
          ]
        }
      ]
    },
    {
      "cell_type": "code",
      "source": [
        "#Percorrer listas com FOR\n",
        "\n",
        "carros = ['Chevette', 'Fusca', 'Variant', 'Lada']\n",
        "for carro in carros:\n",
        "  print(carro)"
      ],
      "metadata": {
        "id": "sGkNimfCAaTs"
      },
      "execution_count": null,
      "outputs": []
    },
    {
      "cell_type": "code",
      "source": [
        "#Laço While - enquanto"
      ],
      "metadata": {
        "id": "fG-IYYvkB74M"
      },
      "execution_count": null,
      "outputs": []
    },
    {
      "cell_type": "code",
      "source": [
        "i = 1\n",
        "while(i <= 5):\n",
        "  print(i)\n",
        "  i+=1\n",
        "  #incremneto\n",
        "  #soma = soma + 1\n",
        "  #soma += 1"
      ],
      "metadata": {
        "colab": {
          "base_uri": "https://localhost:8080/"
        },
        "id": "UaosaeLUCLMu",
        "outputId": "a4636405-7cea-4b7b-a6f4-ad6334946265"
      },
      "execution_count": 38,
      "outputs": [
        {
          "output_type": "stream",
          "name": "stdout",
          "text": [
            "1\n",
            "2\n",
            "3\n",
            "4\n",
            "5\n"
          ]
        }
      ]
    },
    {
      "cell_type": "code",
      "source": [
        "senha = \"\"\n",
        "while(senha != \"123\"):\n",
        "  senha = input('Digite a senha: ')\n",
        "print('Acesso liberado')"
      ],
      "metadata": {
        "id": "ASuO3qz2C8dd"
      },
      "execution_count": null,
      "outputs": []
    },
    {
      "cell_type": "code",
      "source": [
        "valor = 1\n",
        "\n",
        "while(valor != 0):\n",
        "  print(valor, 'é diferente de zero')\n",
        "  valor = int(input('Digite um número, zero sai: '))\n",
        "print('Digitasse zero, otaro!')"
      ],
      "metadata": {
        "colab": {
          "base_uri": "https://localhost:8080/"
        },
        "id": "Z7C9sB3lD83p",
        "outputId": "5fd2e3e2-3cce-41b1-8295-7d6ec9443b0c"
      },
      "execution_count": 43,
      "outputs": [
        {
          "output_type": "stream",
          "name": "stdout",
          "text": [
            "1 é diferente de zero\n",
            "Digite um número, zero sai: 6\n",
            "6 é diferente de zero\n",
            "Digite um número, zero sai: 4\n",
            "4 é diferente de zero\n",
            "Digite um número, zero sai: 5\n",
            "5 é diferente de zero\n",
            "Digite um número, zero sai: 0\n",
            "Digitasse zero, otaro!\n"
          ]
        }
      ]
    },
    {
      "cell_type": "code",
      "source": [
        "#Incremente o código anterior para que leia\n",
        "#os números que o usuário digitou e os some\n",
        "#quando o usuário digitar 0, sai e exibe o\n",
        "#somatório"
      ],
      "metadata": {
        "id": "weBCXNfeEyYt"
      },
      "execution_count": null,
      "outputs": []
    },
    {
      "cell_type": "code",
      "source": [
        "valor = 1\n",
        "soma = 0\n",
        "while(valor != 0):\n",
        "  print('é diferente de zero')\n",
        "  valor = int(input('Digite um número, zero sai: '))\n",
        "  soma += valor\n",
        "print('Saindo...')\n",
        "print('A soma é', soma)"
      ],
      "metadata": {
        "colab": {
          "base_uri": "https://localhost:8080/"
        },
        "id": "AT0horUKFDLB",
        "outputId": "3cc1ef94-907b-4c29-9b32-99162f3f57ed"
      },
      "execution_count": 47,
      "outputs": [
        {
          "output_type": "stream",
          "name": "stdout",
          "text": [
            "é diferente de zero\n",
            "Digite um número, zero sai: 8\n",
            "é diferente de zero\n",
            "Digite um número, zero sai: 2\n",
            "é diferente de zero\n",
            "Digite um número, zero sai: 5\n",
            "é diferente de zero\n",
            "Digite um número, zero sai: 4\n",
            "é diferente de zero\n",
            "Digite um número, zero sai: 1\n",
            "é diferente de zero\n",
            "Digite um número, zero sai: 0\n",
            "Saindo...\n",
            "A soma é 20\n"
          ]
        }
      ]
    }
  ]
}